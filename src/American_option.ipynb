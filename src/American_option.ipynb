{
 "cells": [
  {
   "cell_type": "code",
   "execution_count": 1,
   "metadata": {},
   "outputs": [],
   "source": [
    "from models.mc import MonteCarloBase, hybridMonteCarlo\n",
    "import models.benchmarks as bm\n",
    "from models.longstaff import LSMC_Numpy, LSMC_OpenCL\n",
    "from models.pso import PSO_Numpy, PSO_OpenCL\n",
    "from models.utils import checkOpenCL\n",
    "\n",
    "import numpy as np\n",
    "import matplotlib.pyplot as plt"
   ]
  },
  {
   "cell_type": "code",
   "execution_count": 2,
   "metadata": {},
   "outputs": [
    {
     "name": "stdout",
     "output_type": "stream",
     "text": [
      "\n",
      "============================================================\n",
      "OpenCL Platforms and Devices\n",
      "============================================================\n",
      "Platform - Name: Apple\n",
      "Platform - Vendor: Apple\n",
      "Platform - Version: OpenCL 1.2 (Dec 13 2024 23:09:21)\n",
      "Platform - Profile: FULL_PROFILE\n",
      " --------------------------------------------------------\n",
      " Device - Name: Apple M1\n",
      " Device - Type: ALL | GPU\n",
      " Device - Max Clock Speed: 1000 Mhz\n",
      " Device - Compute Units: 8\n",
      " Device - Global Memory: 5 GB\n",
      " Device - Constant Memory: 1 GB\n",
      " Device - Local Memory: 32 KB (LOCAL)\n",
      " Device - Max Buffer/Image Size: 1 GB\n",
      " Device - Max Work Group Size: 256\n",
      "\n",
      "\n"
     ]
    }
   ],
   "source": [
    "checkOpenCL()"
   ]
  },
  {
   "cell_type": "code",
   "execution_count": 3,
   "metadata": {},
   "outputs": [
    {
     "name": "stdout",
     "output_type": "stream",
     "text": [
      "20000 paths, 200 periods, 500 particles.\n",
      "\n"
     ]
    }
   ],
   "source": [
    "S0, r, sigma, T, nPath, nPeriod, K, opttype, nFish = 100.0, 0.03, 0.3, 1.0, 20000, 200, 110.0, 'P', 500\n",
    "# S0, r, sigma, T, nPath, nPeriod, K, opttype, nFish = 100.0, 0.03, 0.3, 1.0, 2**14, 2**8, 110.0, 'P', 2**8\n",
    "mc = hybridMonteCarlo(S0, r, sigma, T, nPath, nPeriod, K, opttype, nFish)\n",
    "print(f'{nPath} paths, {nPeriod} periods, {nFish} particles.\\n')"
   ]
  },
  {
   "cell_type": "code",
   "execution_count": 4,
   "metadata": {},
   "outputs": [],
   "source": [
    "# St_full = np.concatenate( (np.full(shape=(nPath, 1), fill_value=S0), mcBase.St) , axis=1)\n",
    "# St_full\n",
    "# plt.plot(St_full.T, color=\"b\", lw=.7, alpha=.7)\n",
    "# plt.show()"
   ]
  },
  {
   "cell_type": "code",
   "execution_count": 5,
   "metadata": {},
   "outputs": [
    {
     "name": "stdout",
     "output_type": "stream",
     "text": [
      "Black-Scholes price: 15.989035403985838 - 0.3380775451660156 ms\n",
      "Binomial European price: 15.995095474949926 - 8.153676986694336 ms\n",
      "MonteCarlo Numpy European price: 16.047228125 - 1.0979175567626953 ms\n",
      "MonteCarlo OpenCL_GPU European price: 16.0472265625 - 47.78599739074707 ms\n",
      "Binomial American price: 16.511224673147495 - 9.663820266723633 ms\n"
     ]
    }
   ],
   "source": [
    "# benchmarks\n",
    "_ = bm.blackScholes(S0, K, r, sigma, T, opttype)\n",
    "_ = bm.binomialEuroOption(S0, K, r, sigma, nPeriod, T, opttype)\n",
    "_ = mc.getEuroOption_np()\n",
    "_ = mc.getEuroOption_cl_optimized()\n",
    "_ = bm.binomialAmericanOption(S0, K, r, sigma, nPeriod, T, opttype)"
   ]
  },
  {
   "cell_type": "code",
   "execution_count": 6,
   "metadata": {},
   "outputs": [
    {
     "name": "stdout",
     "output_type": "stream",
     "text": [
      "Longstaff numpy price: 16.478574903371257 - 2000.3421306610107 ms\n",
      "Longstaff OpenCL_GPU price: 16.475198847317646 - 1035.295009613037 ms\n"
     ]
    }
   ],
   "source": [
    "lsmc_np = LSMC_Numpy(mc, inverseType='benchmark_pinv')\n",
    "C_hat, _, _ = lsmc_np.longstaff_schwartz_itm_path_fast()\n",
    "\n",
    "lsmc_cl = LSMC_OpenCL(mc, preCalc=\"optimized\", inverseType='CA')\n",
    "C_hat, _, _ = lsmc_cl.longstaff_schwartz_itm_path_fast_hybrid()"
   ]
  },
  {
   "cell_type": "code",
   "execution_count": 7,
   "metadata": {},
   "outputs": [
    {
     "name": "stdout",
     "output_type": "stream",
     "text": [
      "Pso numpy price: 16.485454559326172 - 14038.966178894043 ms\n",
      "Pso OpenCL_GPU price: 16.526655197143555 - 3505.232810974121 ms\n"
     ]
    }
   ],
   "source": [
    "pso_np = PSO_Numpy(mc, nFish, mc.costPsoAmerOption_np)\n",
    "_ = pso_np.solvePsoAmerOption_np()\n",
    "\n",
    "pso_cl = PSO_OpenCL(mc, nFish, mc.costPsoAmerOption_cl)\n",
    "_ = pso_cl.solvePsoAmerOption_cl()"
   ]
  },
  {
   "cell_type": "code",
   "execution_count": 8,
   "metadata": {},
   "outputs": [],
   "source": [
    "# clear up memory\n",
    "pso_cl.cleanUp()\n",
    "mc.cleanUp()"
   ]
  },
  {
   "cell_type": "code",
   "execution_count": null,
   "metadata": {},
   "outputs": [],
   "source": []
  },
  {
   "cell_type": "code",
   "execution_count": null,
   "metadata": {},
   "outputs": [],
   "source": [
    "\n"
   ]
  },
  {
   "cell_type": "code",
   "execution_count": null,
   "metadata": {},
   "outputs": [],
   "source": []
  }
 ],
 "metadata": {
  "kernelspec": {
   "display_name": "base",
   "language": "python",
   "name": "python3"
  },
  "language_info": {
   "codemirror_mode": {
    "name": "ipython",
    "version": 3
   },
   "file_extension": ".py",
   "mimetype": "text/x-python",
   "name": "python",
   "nbconvert_exporter": "python",
   "pygments_lexer": "ipython3",
   "version": "3.11.7"
  }
 },
 "nbformat": 4,
 "nbformat_minor": 2
}
