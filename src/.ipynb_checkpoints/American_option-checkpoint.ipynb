{
 "cells": [
  {
   "cell_type": "code",
   "execution_count": 1,
   "metadata": {},
   "outputs": [],
   "source": [
    "import os\n",
    "import sys\n",
    "\n"
   ]
  },
  {
   "cell_type": "code",
   "execution_count": 1,
   "metadata": {},
   "outputs": [
    {
     "ename": "ModuleNotFoundError",
     "evalue": "No module named 'mc'",
     "output_type": "error",
     "traceback": [
      "\u001b[0;31m---------------------------------------------------------------------------\u001b[0m",
      "\u001b[0;31mModuleNotFoundError\u001b[0m                       Traceback (most recent call last)",
      "Cell \u001b[0;32mIn[1], line 3\u001b[0m\n\u001b[1;32m      1\u001b[0m \u001b[38;5;28;01mfrom\u001b[39;00m \u001b[38;5;21;01mmodels\u001b[39;00m\u001b[38;5;21;01m.\u001b[39;00m\u001b[38;5;21;01mmc\u001b[39;00m \u001b[38;5;28;01mimport\u001b[39;00m MonteCarloBase\n\u001b[1;32m      2\u001b[0m \u001b[38;5;28;01mimport\u001b[39;00m \u001b[38;5;21;01mmodels\u001b[39;00m\u001b[38;5;21;01m.\u001b[39;00m\u001b[38;5;21;01mbenchmarks\u001b[39;00m \u001b[38;5;28;01mas\u001b[39;00m \u001b[38;5;21;01mbm\u001b[39;00m\n\u001b[0;32m----> 3\u001b[0m \u001b[38;5;28;01mfrom\u001b[39;00m \u001b[38;5;21;01mmodels\u001b[39;00m\u001b[38;5;21;01m.\u001b[39;00m\u001b[38;5;21;01mlongstaff\u001b[39;00m \u001b[38;5;28;01mimport\u001b[39;00m LSMC_Numpy\n",
      "File \u001b[0;32m~/Documents/Work Related/ML_python/GPU/Ren raw/HorseRace/models/longstaff.py:4\u001b[0m\n\u001b[1;32m      2\u001b[0m \u001b[38;5;28;01mimport\u001b[39;00m \u001b[38;5;21;01mnumpy\u001b[39;00m\u001b[38;5;21;01m.\u001b[39;00m\u001b[38;5;21;01mlinalg\u001b[39;00m \u001b[38;5;28;01mas\u001b[39;00m \u001b[38;5;21;01mla\u001b[39;00m\n\u001b[1;32m      3\u001b[0m \u001b[38;5;28;01mimport\u001b[39;00m \u001b[38;5;21;01mpyopencl\u001b[39;00m \u001b[38;5;28;01mas\u001b[39;00m \u001b[38;5;21;01mcl\u001b[39;00m\n\u001b[0;32m----> 4\u001b[0m \u001b[38;5;28;01mfrom\u001b[39;00m \u001b[38;5;21;01mmc\u001b[39;00m \u001b[38;5;28;01mimport\u001b[39;00m MonteCarloBase\n\u001b[1;32m      6\u001b[0m \u001b[38;5;28;01mdef\u001b[39;00m \u001b[38;5;21mcheckError\u001b[39m(a, b):\n\u001b[1;32m      7\u001b[0m     err \u001b[38;5;241m=\u001b[39m a \u001b[38;5;241m-\u001b[39m b\n",
      "\u001b[0;31mModuleNotFoundError\u001b[0m: No module named 'mc'"
     ]
    }
   ],
   "source": [
    "from models.mc import MonteCarloBase\n",
    "import models.benchmarks as bm\n",
    "from models.longstaff import LSMC_Numpy"
   ]
  },
  {
   "cell_type": "code",
   "execution_count": 2,
   "metadata": {},
   "outputs": [
    {
     "data": {
      "text/plain": [
       "(20000, 200)"
      ]
     },
     "execution_count": 2,
     "metadata": {},
     "output_type": "execute_result"
    }
   ],
   "source": [
    "S0, r, sigma, T, nPath, nPeriod, K, opttype, nFish = 100.0, 0.03, 0.3, 1.0, 20000, 200, 110.0, 'P', 500\n",
    "mcBase = MonteCarloBase(S0, r, sigma, T, nPath, nPeriod, K, opttype)\n",
    "mcBase.St.shape\n"
   ]
  },
  {
   "cell_type": "code",
   "execution_count": 3,
   "metadata": {},
   "outputs": [
    {
     "name": "stdout",
     "output_type": "stream",
     "text": [
      "Monte Carlo European price: 16.13124375, 16.131244659423828\n",
      "Black-Scholes price: 15.989035403985838\n",
      "Binomial European price: 15.995095474949926\n",
      "Binomial American price: 16.511224673147495\n"
     ]
    },
    {
     "data": {
      "text/plain": [
       "16.511224673147495"
      ]
     },
     "execution_count": 3,
     "metadata": {},
     "output_type": "execute_result"
    }
   ],
   "source": [
    "mcBase.getEuroOption()\n",
    "bm.blackScholes(S0, K, r, sigma, T, opttype)\n",
    "bm.binomialEuroOption(S0, K, r, sigma, nPeriod, T, opttype)\n",
    "bm.binomialAmericanOption(S0, K, r, sigma, nPeriod, T, opttype)"
   ]
  },
  {
   "cell_type": "code",
   "execution_count": 4,
   "metadata": {},
   "outputs": [
    {
     "ename": "NameError",
     "evalue": "name 'LSMC_Numpy' is not defined",
     "output_type": "error",
     "traceback": [
      "\u001b[0;31m---------------------------------------------------------------------------\u001b[0m",
      "\u001b[0;31mNameError\u001b[0m                                 Traceback (most recent call last)",
      "Cell \u001b[0;32mIn[4], line 1\u001b[0m\n\u001b[0;32m----> 1\u001b[0m lsmc_np \u001b[38;5;241m=\u001b[39m LSMC_Numpy(mcBase)\n\u001b[1;32m      2\u001b[0m lsmc_np\u001b[38;5;241m.\u001b[39mlongstaff_schwartz_itm_path_fast()\n",
      "\u001b[0;31mNameError\u001b[0m: name 'LSMC_Numpy' is not defined"
     ]
    }
   ],
   "source": [
    "lsmc_np = LSMC_Numpy(mcBase)\n",
    "lsmc_np.longstaff_schwartz_itm_path_fast()"
   ]
  },
  {
   "cell_type": "code",
   "execution_count": null,
   "metadata": {},
   "outputs": [],
   "source": []
  }
 ],
 "metadata": {
  "kernelspec": {
   "display_name": "Python 3 (ipykernel)",
   "language": "python",
   "name": "python3"
  },
  "language_info": {
   "codemirror_mode": {
    "name": "ipython",
    "version": 3
   },
   "file_extension": ".py",
   "mimetype": "text/x-python",
   "name": "python",
   "nbconvert_exporter": "python",
   "pygments_lexer": "ipython3",
   "version": "3.11.7"
  }
 },
 "nbformat": 4,
 "nbformat_minor": 2
}
